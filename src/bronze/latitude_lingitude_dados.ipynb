{
 "cells": [
  {
   "cell_type": "code",
   "execution_count": 0,
   "metadata": {
    "application/vnd.databricks.v1+cell": {
     "cellMetadata": {
      "byteLimit": 2048000,
      "rowLimit": 10000
     },
     "inputWidgets": {},
     "nuid": "5f790cf3-8f91-4ce3-be26-e61a7d84e39e",
     "showTitle": false,
     "tableResultSettingsMap": {},
     "title": ""
    }
   },
   "outputs": [],
   "source": [
    "import requests\n",
    "import os\n",
    "from requests.packages.urllib3.exceptions import InsecureRequestWarning"
   ]
  },
  {
   "cell_type": "code",
   "execution_count": 0,
   "metadata": {
    "application/vnd.databricks.v1+cell": {
     "cellMetadata": {
      "byteLimit": 2048000,
      "rowLimit": 10000
     },
     "inputWidgets": {},
     "nuid": "426da541-9068-4257-99c4-128fa370a16a",
     "showTitle": false,
     "tableResultSettingsMap": {},
     "title": ""
    }
   },
   "outputs": [],
   "source": [
    "url_estados = \"https://raw.githubusercontent.com/horstao/municipios-brasileiros-completo/master/csv/estados.csv\"\n",
    "url_municipios = \"https://raw.githubusercontent.com/horstao/municipios-brasileiros-completo/master/csv/municipios.csv\""
   ]
  },
  {
   "cell_type": "code",
   "execution_count": 0,
   "metadata": {
    "application/vnd.databricks.v1+cell": {
     "cellMetadata": {
      "byteLimit": 2048000,
      "rowLimit": 10000
     },
     "inputWidgets": {},
     "nuid": "c0185c98-f41a-4356-ae5c-973c1413eba8",
     "showTitle": false,
     "tableResultSettingsMap": {},
     "title": ""
    }
   },
   "outputs": [],
   "source": [
    "diretorio_destino = \"/Volumes/controlled_medication_data/bronze_layer/raw_data\"\n",
    "os.makedirs(diretorio_destino, exist_ok=True)"
   ]
  },
  {
   "cell_type": "code",
   "execution_count": 0,
   "metadata": {
    "application/vnd.databricks.v1+cell": {
     "cellMetadata": {
      "byteLimit": 2048000,
      "rowLimit": 10000
     },
     "inputWidgets": {},
     "nuid": "bb6fe390-2845-4b9d-ad90-0a56a81f8a83",
     "showTitle": false,
     "tableResultSettingsMap": {},
     "title": ""
    }
   },
   "outputs": [],
   "source": [
    "\n",
    "\n",
    "# Diretorio onde os arquivos serão salvos\n",
    "diretorio_destino = \"/Volumes/controlled_medication_data/bronze_layer/raw_data\"\n",
    "os.makedirs(diretorio_destino, exist_ok=True)\n",
    "\n",
    "# Lista de arquivos para download (nome do arquivo, URL)\n",
    "arquivos_para_baixar = [\n",
    "    (\"estados.csv\", url_estados),\n",
    "    (\"municipios.csv\", url_municipios)\n",
    "]\n",
    "\n",
    "for nome_arquivo, url in arquivos_para_baixar:\n",
    "    caminho_completo = os.path.join(diretorio_destino, nome_arquivo)\n",
    "    \n",
    "    print(f\"Baixando {nome_arquivo}...\")\n",
    "    try:\n",
    "        response = requests.get(url)\n",
    "        # Verifica se a requisição foi bem sucedida\n",
    "        response.raise_for_status()\n",
    "\n",
    "        with open(caminho_completo, \"wb\") as f:\n",
    "            f.write(response.content)\n",
    "        \n",
    "        print(f\"{nome_arquivo} salvo com sucesso em '{caminho_completo}'\")\n",
    "    except requests.exceptions.RequestException as e:\n",
    "        print(f\"Erro ao baixar {nome_arquivo}: {e}\")\n",
    "\n",
    "print(\"---\")\n",
    "print(\"Processo de download finalizado.\")"
   ]
  },
  {
   "cell_type": "code",
   "execution_count": 0,
   "metadata": {
    "application/vnd.databricks.v1+cell": {
     "cellMetadata": {
      "byteLimit": 2048000,
      "rowLimit": 10000
     },
     "inputWidgets": {},
     "nuid": "c70d8800-2ece-4ef5-a1bc-8206204804f5",
     "showTitle": false,
     "tableResultSettingsMap": {},
     "title": ""
    }
   },
   "outputs": [],
   "source": [
    "df_estados = spark.read.csv(\"/Volumes/controlled_medication_data/bronze_layer/raw_data/estados.csv\", header=True, inferSchema=True)\n",
    "\n",
    "df_estados.display()"
   ]
  },
  {
   "cell_type": "code",
   "execution_count": 0,
   "metadata": {
    "application/vnd.databricks.v1+cell": {
     "cellMetadata": {
      "byteLimit": 2048000,
      "rowLimit": 10000
     },
     "inputWidgets": {},
     "nuid": "97f213b7-af7c-454b-a302-41f903ce3e52",
     "showTitle": false,
     "tableResultSettingsMap": {},
     "title": ""
    }
   },
   "outputs": [],
   "source": [
    "df_estados = df_estados.withColumnRenamed(\"nome\", \"nome_uf\")\n",
    "df_estados = df_estados.withColumnRenamed(\"latitude\", \"latitude_uf\")\n",
    "df_estados = df_estados.withColumnRenamed(\"longitude\", \"longitude_uf\")\n",
    "df_estados.show(5)"
   ]
  },
  {
   "cell_type": "code",
   "execution_count": 0,
   "metadata": {
    "application/vnd.databricks.v1+cell": {
     "cellMetadata": {
      "byteLimit": 2048000,
      "rowLimit": 10000
     },
     "inputWidgets": {},
     "nuid": "836d6b8b-1e95-47c6-a956-654dc9a0d651",
     "showTitle": false,
     "tableResultSettingsMap": {},
     "title": ""
    }
   },
   "outputs": [],
   "source": [
    "df_municipios = spark.read.csv(\"/Volumes/controlled_medication_data/bronze_layer/raw_data/municipios.csv\", header=True, inferSchema=True)\n",
    "\n",
    "df_municipios.display()"
   ]
  },
  {
   "cell_type": "code",
   "execution_count": 0,
   "metadata": {
    "application/vnd.databricks.v1+cell": {
     "cellMetadata": {
      "byteLimit": 2048000,
      "rowLimit": 10000
     },
     "inputWidgets": {},
     "nuid": "616ba075-e6be-4673-bc58-c913e54e0a47",
     "showTitle": false,
     "tableResultSettingsMap": {},
     "title": ""
    }
   },
   "outputs": [],
   "source": [
    "df_municipios = df_municipios.withColumnRenamed(\"nome\", \"nome_municipio\")\n",
    "df_municipios = df_municipios.withColumnRenamed(\"latitude\", \"latitude_municipio\")\n",
    "df_municipios = df_municipios.withColumnRenamed(\"longitude\", \"longitude_municipio\")\n",
    "df_municipios = df_municipios.drop(\"siafi_id\", \"codigo_ibge\")\n",
    "df_municipios.show(5)"
   ]
  },
  {
   "cell_type": "code",
   "execution_count": 0,
   "metadata": {
    "application/vnd.databricks.v1+cell": {
     "cellMetadata": {
      "byteLimit": 2048000,
      "rowLimit": 10000
     },
     "inputWidgets": {},
     "nuid": "09d941c1-8a15-407a-9a54-15e15daa3d0e",
     "showTitle": false,
     "tableResultSettingsMap": {},
     "title": ""
    }
   },
   "outputs": [],
   "source": [
    "df_resultado = df_municipios.join(df_estados, on=\"codigo_uf\", how=\"inner\")"
   ]
  },
  {
   "cell_type": "code",
   "execution_count": 0,
   "metadata": {
    "application/vnd.databricks.v1+cell": {
     "cellMetadata": {
      "byteLimit": 2048000,
      "rowLimit": 10000
     },
     "inputWidgets": {},
     "nuid": "431b3953-a438-4120-ac26-fd58af54db20",
     "showTitle": false,
     "tableResultSettingsMap": {
      "0": {
       "dataGridStateBlob": "{\"version\":1,\"tableState\":{\"columnPinning\":{\"left\":[\"#row_number#\"],\"right\":[]},\"columnSizing\":{},\"columnVisibility\":{}},\"settings\":{\"columns\":{}},\"syncTimestamp\":1755190733063}",
       "filterBlob": null,
       "queryPlanFiltersBlob": null,
       "tableResultIndex": 0
      }
     },
     "title": ""
    }
   },
   "outputs": [],
   "source": [
    "df_resultado.display()"
   ]
  },
  {
   "cell_type": "code",
   "execution_count": 0,
   "metadata": {
    "application/vnd.databricks.v1+cell": {
     "cellMetadata": {
      "byteLimit": 2048000,
      "rowLimit": 10000
     },
     "inputWidgets": {},
     "nuid": "b8882c50-d748-48f9-ae31-98c12bccb81f",
     "showTitle": false,
     "tableResultSettingsMap": {},
     "title": ""
    }
   },
   "outputs": [],
   "source": [
    "from pyspark.sql.functions import lower, upper, col\n",
    "\n",
    "df_resultado = df_resultado.withColumn(\"nome_municipio\", upper(col(\"nome_municipio\")))"
   ]
  },
  {
   "cell_type": "code",
   "execution_count": 0,
   "metadata": {
    "application/vnd.databricks.v1+cell": {
     "cellMetadata": {
      "byteLimit": 2048000,
      "rowLimit": 10000
     },
     "inputWidgets": {},
     "nuid": "f6e1b7b5-3e74-457c-960f-22ee0b643352",
     "showTitle": false,
     "tableResultSettingsMap": {},
     "title": ""
    }
   },
   "outputs": [],
   "source": [
    "df_resultado.display()"
   ]
  },
  {
   "cell_type": "code",
   "execution_count": 0,
   "metadata": {
    "application/vnd.databricks.v1+cell": {
     "cellMetadata": {
      "byteLimit": 2048000,
      "rowLimit": 10000
     },
     "inputWidgets": {},
     "nuid": "85f48229-0f46-4eac-97bf-6f3f7632c513",
     "showTitle": false,
     "tableResultSettingsMap": {},
     "title": ""
    }
   },
   "outputs": [],
   "source": [
    "df_resultado.write.mode(\"overwrite\").saveAsTable(\"controlled_medication_data.bronze_layer.municipios\")"
   ]
  },
  {
   "cell_type": "code",
   "execution_count": 0,
   "metadata": {
    "application/vnd.databricks.v1+cell": {
     "cellMetadata": {
      "byteLimit": 2048000,
      "implicitDf": true,
      "rowLimit": 10000
     },
     "inputWidgets": {},
     "nuid": "b2bfc5cc-880f-4965-b0bb-5599f3b5f8e5",
     "showTitle": false,
     "tableResultSettingsMap": {},
     "title": ""
    }
   },
   "outputs": [],
   "source": [
    "%sql\n",
    "\n",
    "SELECT * \n",
    "FROM controlled_medication_data.bronze_layer.municipios\n",
    "WHERE nome_municipio = \"SÃO PAULO\" AND uf = \"SP\""
   ]
  }
 ],
 "metadata": {
  "application/vnd.databricks.v1+notebook": {
   "computePreferences": null,
   "dashboards": [],
   "environmentMetadata": {
    "base_environment": "",
    "environment_version": "2"
   },
   "inputWidgetPreferences": null,
   "language": "python",
   "notebookMetadata": {
    "mostRecentlyExecutedCommandWithImplicitDF": {
     "commandId": 8120532626077676,
     "dataframes": [
      "_sqldf"
     ]
    },
    "pythonIndentUnit": 4
   },
   "notebookName": "latitude_lingitude_dados",
   "widgets": {}
  },
  "language_info": {
   "name": "python"
  }
 },
 "nbformat": 4,
 "nbformat_minor": 0
}
