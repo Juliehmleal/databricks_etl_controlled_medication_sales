{
 "cells": [
  {
   "cell_type": "code",
   "execution_count": 0,
   "metadata": {
    "application/vnd.databricks.v1+cell": {
     "cellMetadata": {},
     "inputWidgets": {},
     "nuid": "82c1dda9-9ee7-414f-b3da-e0c2af98e696",
     "showTitle": false,
     "tableResultSettingsMap": {},
     "title": ""
    }
   },
   "outputs": [],
   "source": [
    "origem = \"dbfs:/Volumes/controlled_medication_data/bronze_layer/raw_data\"\n",
    "destino = f\"{origem}/2014\"\n",
    "\n",
    "# Cria a pasta destino se não existir\n",
    "dbutils.fs.mkdirs(destino)\n",
    "\n",
    "# Lista todos os arquivos na pasta origem\n",
    "arquivos = dbutils.fs.ls(origem)\n",
    "\n",
    "# Filtra e move os arquivos que contenham \"2014\" no nome\n",
    "for arq in arquivos:\n",
    "    if arq.name.endswith(\".csv\") and \"2014\" in arq.name:\n",
    "        dbutils.fs.mv(arq.path, f\"{destino}/{arq.name}\")\n",
    "        print(f\"Movido: {arq.name}\")\n"
   ]
  }
 ],
 "metadata": {
  "application/vnd.databricks.v1+notebook": {
   "computePreferences": null,
   "dashboards": [],
   "environmentMetadata": {
    "base_environment": "",
    "environment_version": "2"
   },
   "inputWidgetPreferences": null,
   "language": "python",
   "notebookMetadata": {
    "pythonIndentUnit": 4
   },
   "notebookName": "movendo arquivos",
   "widgets": {}
  },
  "language_info": {
   "name": "python"
  }
 },
 "nbformat": 4,
 "nbformat_minor": 0
}
