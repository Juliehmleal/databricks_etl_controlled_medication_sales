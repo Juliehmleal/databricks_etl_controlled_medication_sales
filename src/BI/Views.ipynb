{
 "cells": [
  {
   "cell_type": "markdown",
   "metadata": {
    "application/vnd.databricks.v1+cell": {
     "cellMetadata": {},
     "inputWidgets": {},
     "nuid": "56928693-3f17-4b36-ac59-33bd1aee7902",
     "showTitle": false,
     "tableResultSettingsMap": {},
     "title": ""
    }
   },
   "source": [
    "#Views para Dashboard"
   ]
  },
  {
   "cell_type": "code",
   "execution_count": 0,
   "metadata": {
    "application/vnd.databricks.v1+cell": {
     "cellMetadata": {},
     "inputWidgets": {},
     "nuid": "7875ca67-57c7-496c-afb2-f576d07dc355",
     "showTitle": false,
     "tableResultSettingsMap": {},
     "title": ""
    }
   },
   "outputs": [],
   "source": [
    "USE CATALOG controlled_medication_data;\n",
    "USE SCHEMA gold_layer;"
   ]
  },
  {
   "cell_type": "markdown",
   "metadata": {
    "application/vnd.databricks.v1+cell": {
     "cellMetadata": {},
     "inputWidgets": {},
     "nuid": "83e601d0-9165-4d9e-8b3b-59a550d3c447",
     "showTitle": false,
     "tableResultSettingsMap": {},
     "title": ""
    }
   },
   "source": [
    "## Relatorio Geral"
   ]
  },
  {
   "cell_type": "code",
   "execution_count": 0,
   "metadata": {
    "application/vnd.databricks.v1+cell": {
     "cellMetadata": {},
     "inputWidgets": {},
     "nuid": "5a902f57-6c13-458e-a42c-f9983995798a",
     "showTitle": false,
     "tableResultSettingsMap": {},
     "title": ""
    }
   },
   "outputs": [],
   "source": [
    "CREATE OR REPLACE VIEW vw_relatorio AS\n",
    "SELECT \n",
    "    DATE(dt.data_venda) as data_venda,\n",
    "    loc.uf_venda,\n",
    "    loc.municipio_venda,\n",
    "    loc.capital,\n",
    "    prod.principio_ativo,\n",
    "    presc.conselho_prescritor,\n",
    "    presc.uf_conselho_prescritor,\n",
    "    prod.CID10,\n",
    "    fato.qtd_vendida\n",
    "FROM ft_vendas as fato\n",
    "INNER JOIN dim_data as dt\n",
    "ON dt.id_data = fato.id_data\n",
    "INNER JOIN dim_localizacao_venda as loc\n",
    "ON fato.id_localizacao = loc.id_localizacao\n",
    "INNER JOIN dim_produto as prod\n",
    "ON fato.id_produto = prod.id_produto\n",
    "INNER JOIN dim_prescritor as presc\n",
    "ON presc.id_prescritor = fato.id_prescritor\n"
   ]
  },
  {
   "cell_type": "markdown",
   "metadata": {
    "application/vnd.databricks.v1+cell": {
     "cellMetadata": {},
     "inputWidgets": {},
     "nuid": "b450ef2d-14e3-41ee-814e-2d6df6167e99",
     "showTitle": false,
     "tableResultSettingsMap": {},
     "title": ""
    }
   },
   "source": [
    "## Princípios ativos mais vendido"
   ]
  },
  {
   "cell_type": "code",
   "execution_count": 0,
   "metadata": {
    "application/vnd.databricks.v1+cell": {
     "cellMetadata": {},
     "inputWidgets": {},
     "nuid": "f3e84a98-a8ff-4f90-ae4b-4654543d5496",
     "showTitle": false,
     "tableResultSettingsMap": {},
     "title": ""
    }
   },
   "outputs": [],
   "source": [
    "CREATE OR REPLACE VIEW vw_top_principios_mais_vendidos AS \n",
    "SELECT \n",
    "    SUM(fato.qtd_vendida) AS qtd_vendida_total,\n",
    "    produto.principio_ativo\n",
    "FROM ft_vendas as fato\n",
    "INNER JOIN dim_produto as produto\n",
    "ON fato.id_produto = produto.id_produto\n",
    "GROUP BY produto.principio_ativo\n",
    "ORDER BY qtd_vendida_total DESC\n",
    "LIMIT 10\n"
   ]
  },
  {
   "cell_type": "markdown",
   "metadata": {
    "application/vnd.databricks.v1+cell": {
     "cellMetadata": {},
     "inputWidgets": {},
     "nuid": "2ba5e7e1-4bd6-49a9-aa41-1dad815d80c4",
     "showTitle": false,
     "tableResultSettingsMap": {},
     "title": ""
    }
   },
   "source": [
    "## Princípio ativo por cidade"
   ]
  },
  {
   "cell_type": "code",
   "execution_count": 0,
   "metadata": {
    "application/vnd.databricks.v1+cell": {
     "cellMetadata": {},
     "inputWidgets": {},
     "nuid": "2df07eff-6acc-4abd-ae43-706782d4e91a",
     "showTitle": false,
     "tableResultSettingsMap": {},
     "title": ""
    }
   },
   "outputs": [],
   "source": [
    "CREATE OR REPLACE VIEW vw_principio_ativo_por_cidade AS\n",
    "SELECT \n",
    "    produto.principio_ativo,\n",
    "    localizacao.municipio_venda as Cidade,\n",
    "    localizacao.uf_venda as Estado,\n",
    "    DATE(data_venda.data_venda) as data_venda,\n",
    "    SUM(fato.qtd_vendida) as qtd_vendida\n",
    "FROM ft_vendas as fato\n",
    "INNER JOIN dim_produto as produto\n",
    "ON fato.id_produto = produto.id_produto\n",
    "INNER JOIN dim_localizacao_venda as localizacao\n",
    "ON fato.id_localizacao = localizacao.id_localizacao\n",
    "INNER JOIN dim_data as data_venda\n",
    "ON fato.id_data = data_venda.id_data\n",
    "GROUP BY\n",
    "    produto.principio_ativo,\n",
    "    Estado,\n",
    "    Cidade,\n",
    "    data_venda\n",
    "ORDER BY qtd_vendida DESC\n"
   ]
  },
  {
   "cell_type": "markdown",
   "metadata": {
    "application/vnd.databricks.v1+cell": {
     "cellMetadata": {},
     "inputWidgets": {},
     "nuid": "3ac047c9-3d33-4ae2-99a5-69865c7040bc",
     "showTitle": false,
     "tableResultSettingsMap": {},
     "title": ""
    }
   },
   "source": [
    "## Quantidade vendida do princípio ativo temporal"
   ]
  },
  {
   "cell_type": "code",
   "execution_count": 0,
   "metadata": {
    "application/vnd.databricks.v1+cell": {
     "cellMetadata": {},
     "inputWidgets": {},
     "nuid": "4ad32ef9-f840-4ae0-bf7b-e37b81511fd0",
     "showTitle": false,
     "tableResultSettingsMap": {},
     "title": ""
    }
   },
   "outputs": [],
   "source": [
    "CREATE OR REPLACE VIEW vw_qtd_vendida_principio_ativo_temporal AS\n",
    "SELECT \n",
    "    SUM(ft.qtd_vendida),\n",
    "    prod.principio_ativo,\n",
    "    DATE(data.data_venda)\n",
    "FROM ft_vendas as ft\n",
    "INNER JOIN dim_produto as prod\n",
    "ON ft.id_produto = prod.id_produto\n",
    "INNER JOIN dim_data as data\n",
    "ON ft.id_data = data.id_data\n",
    "GROUP BY \n",
    "    prod.principio_ativo,\n",
    "    DATE(data.data_venda)"
   ]
  },
  {
   "cell_type": "markdown",
   "metadata": {
    "application/vnd.databricks.v1+cell": {
     "cellMetadata": {},
     "inputWidgets": {},
     "nuid": "e3442e92-a10b-497e-9beb-7da91fa1beec",
     "showTitle": false,
     "tableResultSettingsMap": {},
     "title": ""
    }
   },
   "source": [
    "## Vendas por cidade"
   ]
  },
  {
   "cell_type": "code",
   "execution_count": 0,
   "metadata": {
    "application/vnd.databricks.v1+cell": {
     "cellMetadata": {},
     "inputWidgets": {},
     "nuid": "74dc7b4e-2955-4d91-9e85-5da298504bce",
     "showTitle": false,
     "tableResultSettingsMap": {},
     "title": ""
    }
   },
   "outputs": [],
   "source": [
    "CREATE OR REPLACE VIEW vw_vendas_por_cidade AS\n",
    "SELECT\n",
    "  SUM(ft.qtd_vendida) AS numero_vendas,\n",
    "  localizacao.uf_venda,\n",
    "  localizacao.municipio_venda,\n",
    "  localizacao.latitude_municipio,\n",
    "  localizacao.longitude_municipio\n",
    "FROM ft_vendas AS ft\n",
    "INNER JOIN dim_localizacao_venda AS localizacao\n",
    "  ON ft.id_localizacao = localizacao.id_localizacao\n",
    "GROUP BY \n",
    "  localizacao.uf_venda,\n",
    "  localizacao.municipio_venda,\n",
    "  localizacao.latitude_municipio,\n",
    "  localizacao.longitude_municipio\n",
    "ORDER BY numero_vendas DESC"
   ]
  },
  {
   "cell_type": "markdown",
   "metadata": {
    "application/vnd.databricks.v1+cell": {
     "cellMetadata": {},
     "inputWidgets": {},
     "nuid": "6e8cf555-65c5-4d36-ab36-547e4cf14927",
     "showTitle": false,
     "tableResultSettingsMap": {},
     "title": ""
    }
   },
   "source": [
    "## Vendas por UF"
   ]
  },
  {
   "cell_type": "code",
   "execution_count": 0,
   "metadata": {
    "application/vnd.databricks.v1+cell": {
     "cellMetadata": {},
     "inputWidgets": {},
     "nuid": "30e96035-2ea0-48ff-9d51-1591588a6046",
     "showTitle": false,
     "tableResultSettingsMap": {},
     "title": ""
    }
   },
   "outputs": [],
   "source": [
    "CREATE OR REPLACE VIEW vw_vendas_por_uf AS\n",
    "SELECT \n",
    "  localizacao.uf_venda,\n",
    "  localizacao.nome_uf,\n",
    "  localizacao.latitude_uf,\n",
    "  localizacao.longitude_uf,\n",
    "  SUM(ft.qtd_vendida) AS qtd_vendas\n",
    "FROM ft_vendas AS ft\n",
    "INNER JOIN dim_localizacao_venda AS localizacao\n",
    "  ON ft.id_localizacao = localizacao.id_localizacao\n",
    "GROUP BY \n",
    "  localizacao.uf_venda,\n",
    "  localizacao.nome_uf,\n",
    "  localizacao.latitude_uf,\n",
    "  localizacao.longitude_uf\n",
    "ORDER BY qtd_vendas DESC;"
   ]
  }
 ],
 "metadata": {
  "application/vnd.databricks.v1+notebook": {
   "computePreferences": null,
   "dashboards": [],
   "environmentMetadata": {
    "base_environment": "",
    "environment_version": "3"
   },
   "inputWidgetPreferences": null,
   "language": "sql",
   "notebookMetadata": {
    "pythonIndentUnit": 4
   },
   "notebookName": "Views",
   "widgets": {}
  },
  "language_info": {
   "name": "sql"
  }
 },
 "nbformat": 4,
 "nbformat_minor": 0
}
