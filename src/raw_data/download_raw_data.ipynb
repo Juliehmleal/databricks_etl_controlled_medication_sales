{
 "cells": [
  {
   "cell_type": "code",
   "execution_count": 0,
   "metadata": {
    "application/vnd.databricks.v1+cell": {
     "cellMetadata": {
      "byteLimit": 2048000,
      "rowLimit": 10000
     },
     "inputWidgets": {},
     "nuid": "d9a35c77-8f63-4cbe-be05-87f14281995b",
     "showTitle": false,
     "tableResultSettingsMap": {},
     "title": ""
    }
   },
   "outputs": [],
   "source": [
    "import requests\n",
    "import os\n",
    "from requests.packages.urllib3.exceptions import InsecureRequestWarning\n",
    "\n",
    "# Desabilita o aviso de segurança do SSL para evitar o erro 'CERTIFICATE_VERIFY_FAILED'\n",
    "requests.packages.urllib3.disable_warnings(InsecureRequestWarning)\n",
    "\n",
    "# Define o caminho base do Volume\n",
    "caminho_base_volume = \"/Volumes/controlled_medication_data/bronze_layer/raw_data\"\n",
    "\n",
    "# Define o intervalo de anos para o download\n",
    "ano_inicial = 2014\n",
    "ano_final = 2021\n",
    "\n",
    "# Loop externo para iterar sobre os anos\n",
    "for ano in range(ano_inicial, ano_final + 1):\n",
    "    \n",
    "    # Define o diretório de destino dinamicamente para cada ano\n",
    "    diretorio_destino = os.path.join(caminho_base_volume, str(ano))\n",
    "\n",
    "    # Cria o diretório do ano se ele não existir\n",
    "    if not os.path.exists(diretorio_destino):\n",
    "        os.makedirs(diretorio_destino, exist_ok=True)\n",
    "        print(f\"Diretório '{diretorio_destino}' criado com sucesso no Volume.\")\n",
    "    else:\n",
    "        print(f\"Diretório '{diretorio_destino}' já existe no Volume.\")\n",
    "    \n",
    "    # Loop interno para iterar sobre os meses (1 a 12)\n",
    "    for mes in range(1, 13):\n",
    "        # Condição para parar em novembro no ano final (2021)\n",
    "        if ano == ano_final and mes > 11:\n",
    "            break\n",
    "        \n",
    "        # Formata o número do mês para ter dois dígitos (ex: 1 -> 01)\n",
    "        mes_formatado = f\"{mes:02d}\"\n",
    "        \n",
    "        # Constrói o nome do arquivo e a URL com base no ano e mês\n",
    "        ano_mes = f\"{ano}{mes_formatado}\"\n",
    "        nome_arquivo = f\"EDA_Industrializados_{ano_mes}.csv\"\n",
    "        url = f\"https://dados.anvisa.gov.br/dados/SNGPC/Industrializados/{nome_arquivo}\"\n",
    "        caminho_salvar = os.path.join(diretorio_destino, nome_arquivo)\n",
    "\n",
    "        # Adiciona a verificação se o arquivo já existe na pasta\n",
    "        if os.path.exists(caminho_salvar):\n",
    "            print(f\"Arquivo {nome_arquivo} já existe em '{diretorio_destino}'. Pulando o download.\")\n",
    "            continue  # Pula para a próxima iteração do loop\n",
    "\n",
    "        print(f\"Baixando o arquivo: {nome_arquivo}...\")\n",
    "        \n",
    "        try:\n",
    "            # Faz a requisição HTTP, desabilitando a verificação SSL\n",
    "            resposta = requests.get(url, verify=False)\n",
    "            \n",
    "            if resposta.status_code == 200:\n",
    "                with open(caminho_salvar, 'wb') as f:\n",
    "                    f.write(resposta.content)\n",
    "                print(f\"Arquivo {nome_arquivo} baixado com sucesso em '{caminho_salvar}'.\")\n",
    "            else:\n",
    "                print(f\"Erro ao baixar o arquivo {nome_arquivo}. Código de status: {resposta.status_code}\")\n",
    "        except requests.exceptions.RequestException as e:\n",
    "            print(f\"Ocorreu um erro na requisição para {nome_arquivo}: {e}\")\n",
    "\n",
    "print(\"\\nProcesso de download concluído.\")"
   ]
  }
 ],
 "metadata": {
  "application/vnd.databricks.v1+notebook": {
   "computePreferences": null,
   "dashboards": [],
   "environmentMetadata": {
    "base_environment": "",
    "environment_version": "2"
   },
   "inputWidgetPreferences": null,
   "language": "python",
   "notebookMetadata": {
    "mostRecentlyExecutedCommandWithImplicitDF": {
     "commandId": 5969071234334401,
     "dataframes": [
      "_sqldf"
     ]
    },
    "pythonIndentUnit": 4
   },
   "notebookName": "download_raw_data",
   "widgets": {}
  },
  "language_info": {
   "name": "python"
  }
 },
 "nbformat": 4,
 "nbformat_minor": 0
}
