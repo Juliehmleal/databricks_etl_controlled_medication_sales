{
 "cells": [
  {
   "cell_type": "markdown",
   "metadata": {
    "application/vnd.databricks.v1+cell": {
     "cellMetadata": {},
     "inputWidgets": {},
     "nuid": "c4f2d29c-3d76-4b67-8886-a60b0192cd31",
     "showTitle": false,
     "tableResultSettingsMap": {},
     "title": ""
    }
   },
   "source": [
    "#Notebook de ingestão de dados brutos do site gov br"
   ]
  },
  {
   "cell_type": "markdown",
   "metadata": {
    "application/vnd.databricks.v1+cell": {
     "cellMetadata": {},
     "inputWidgets": {},
     "nuid": "1005a5ff-377f-40fd-9146-7f7923ff4576",
     "showTitle": false,
     "tableResultSettingsMap": {},
     "title": ""
    }
   },
   "source": [
    "##Imports"
   ]
  },
  {
   "cell_type": "code",
   "execution_count": 0,
   "metadata": {
    "application/vnd.databricks.v1+cell": {
     "cellMetadata": {},
     "inputWidgets": {},
     "nuid": "f659c8fd-7bd9-4558-9519-47fc9b21cf48",
     "showTitle": false,
     "tableResultSettingsMap": {},
     "title": ""
    }
   },
   "outputs": [],
   "source": [
    "import requests\n",
    "import os\n",
    "from requests.packages.urllib3.exceptions import InsecureRequestWarning"
   ]
  },
  {
   "cell_type": "markdown",
   "metadata": {
    "application/vnd.databricks.v1+cell": {
     "cellMetadata": {},
     "inputWidgets": {},
     "nuid": "0b0ffd39-c104-4549-8430-5f139a538d63",
     "showTitle": false,
     "tableResultSettingsMap": {},
     "title": ""
    }
   },
   "source": [
    "##Desabilitando o EsecureRequestWarning para nao ficar aparecendo avisos ao realizar o download"
   ]
  },
  {
   "cell_type": "code",
   "execution_count": 0,
   "metadata": {
    "application/vnd.databricks.v1+cell": {
     "cellMetadata": {},
     "inputWidgets": {},
     "nuid": "2dff42b0-0ecd-4565-a88f-7ab036dcf651",
     "showTitle": false,
     "tableResultSettingsMap": {},
     "title": ""
    }
   },
   "outputs": [],
   "source": [
    "requests.packages.urllib3.disable_warnings(InsecureRequestWarning)"
   ]
  },
  {
   "cell_type": "markdown",
   "metadata": {
    "application/vnd.databricks.v1+cell": {
     "cellMetadata": {},
     "inputWidgets": {},
     "nuid": "1c7ca3c2-a239-4074-817c-f2cd52854cac",
     "showTitle": false,
     "tableResultSettingsMap": {},
     "title": ""
    }
   },
   "source": [
    "##Definindo variaveis que serão usadas durante o download"
   ]
  },
  {
   "cell_type": "code",
   "execution_count": 0,
   "metadata": {
    "application/vnd.databricks.v1+cell": {
     "cellMetadata": {},
     "inputWidgets": {},
     "nuid": "38f8643f-3583-4390-b100-ebcee245c81b",
     "showTitle": false,
     "tableResultSettingsMap": {},
     "title": ""
    }
   },
   "outputs": [],
   "source": [
    "caminho_base_volume = \"/Volumes/controlled_medication_data/bronze_layer/raw_data\""
   ]
  },
  {
   "cell_type": "markdown",
   "metadata": {
    "application/vnd.databricks.v1+cell": {
     "cellMetadata": {},
     "inputWidgets": {},
     "nuid": "7d20bc00-f3c2-4500-bc44-4f2522d09cdf",
     "showTitle": false,
     "tableResultSettingsMap": {},
     "title": ""
    }
   },
   "source": [
    "Caso a base seja atualizada, basta mudar a variável ano final para o ano que deseja baixar os dados"
   ]
  },
  {
   "cell_type": "code",
   "execution_count": 0,
   "metadata": {
    "application/vnd.databricks.v1+cell": {
     "cellMetadata": {},
     "inputWidgets": {},
     "nuid": "2350448e-ca42-4f46-84e8-21ccd92ab265",
     "showTitle": false,
     "tableResultSettingsMap": {},
     "title": ""
    }
   },
   "outputs": [],
   "source": [
    "ano_inicial = 2014\n",
    "ano_final = 2021"
   ]
  },
  {
   "cell_type": "markdown",
   "metadata": {
    "application/vnd.databricks.v1+cell": {
     "cellMetadata": {},
     "inputWidgets": {},
     "nuid": "bbd4eddf-d89c-4323-b909-a98f9190eac0",
     "showTitle": false,
     "tableResultSettingsMap": {},
     "title": ""
    }
   },
   "source": [
    "## Download dos dados "
   ]
  },
  {
   "cell_type": "code",
   "execution_count": 0,
   "metadata": {
    "application/vnd.databricks.v1+cell": {
     "cellMetadata": {
      "byteLimit": 2048000,
      "rowLimit": 10000
     },
     "inputWidgets": {},
     "nuid": "d9a35c77-8f63-4cbe-be05-87f14281995b",
     "showTitle": false,
     "tableResultSettingsMap": {},
     "title": ""
    }
   },
   "outputs": [],
   "source": [
    "for ano in range(ano_inicial, ano_final + 1):\n",
    "    \n",
    "    diretorio_destino = os.path.join(caminho_base_volume, str(ano))\n",
    "\n",
    "    if not os.path.exists(diretorio_destino):\n",
    "        os.makedirs(diretorio_destino, exist_ok=True)\n",
    "        print(f\"Diretório '{diretorio_destino}' criado com sucesso no Volume.\")\n",
    "    else:\n",
    "        print(f\"Diretório '{diretorio_destino}' já existe no Volume.\")\n",
    "    \n",
    "    for mes in range(1, 13):\n",
    "\n",
    "        if ano == ano_final and mes > 11:\n",
    "            break\n",
    "        \n",
    "        mes_formatado = f\"{mes:02d}\"\n",
    "        \n",
    "        ano_mes = f\"{ano}{mes_formatado}\"\n",
    "        nome_arquivo = f\"EDA_Industrializados_{ano_mes}.csv\"\n",
    "        url = f\"https://dados.anvisa.gov.br/dados/SNGPC/Industrializados/{nome_arquivo}\"\n",
    "        caminho_salvar = os.path.join(diretorio_destino, nome_arquivo)\n",
    "\n",
    "\n",
    "        if os.path.exists(caminho_salvar):\n",
    "            print(f\"Arquivo {nome_arquivo} já existe em '{diretorio_destino}'. Pulando o download.\")\n",
    "            continue  \n",
    "\n",
    "        print(f\"Baixando o arquivo: {nome_arquivo}...\")\n",
    "        \n",
    "        try:\n",
    "            resposta = requests.get(url, verify=False)\n",
    "            \n",
    "            if resposta.status_code == 200:\n",
    "                with open(caminho_salvar, 'wb') as f:\n",
    "                    f.write(resposta.content)\n",
    "                print(f\"Arquivo {nome_arquivo} baixado com sucesso em '{caminho_salvar}'.\")\n",
    "            else:\n",
    "                print(f\"Erro ao baixar o arquivo {nome_arquivo}. Código de status: {resposta.status_code}\")\n",
    "        except requests.exceptions.RequestException as e:\n",
    "            print(f\"Ocorreu um erro na requisição para {nome_arquivo}: {e}\")\n",
    "\n",
    "print(\"\\nProcesso de download concluído.\")"
   ]
  }
 ],
 "metadata": {
  "application/vnd.databricks.v1+notebook": {
   "computePreferences": null,
   "dashboards": [],
   "environmentMetadata": {
    "base_environment": "",
    "environment_version": "2"
   },
   "inputWidgetPreferences": null,
   "language": "python",
   "notebookMetadata": {
    "mostRecentlyExecutedCommandWithImplicitDF": {
     "commandId": 5969071234334401,
     "dataframes": [
      "_sqldf"
     ]
    },
    "pythonIndentUnit": 4
   },
   "notebookName": "baixando_dados_brutos",
   "widgets": {}
  },
  "language_info": {
   "name": "python"
  }
 },
 "nbformat": 4,
 "nbformat_minor": 0
}
