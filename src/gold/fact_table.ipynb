{
 "cells": [
  {
   "cell_type": "markdown",
   "metadata": {
    "application/vnd.databricks.v1+cell": {
     "cellMetadata": {
      "byteLimit": 2048000,
      "rowLimit": 10000
     },
     "inputWidgets": {},
     "nuid": "5f9ef05f-6505-4eda-84db-95d7d7d6a85d",
     "showTitle": false,
     "tableResultSettingsMap": {},
     "title": ""
    }
   },
   "source": [
    "##Imports"
   ]
  },
  {
   "cell_type": "code",
   "execution_count": 0,
   "metadata": {
    "application/vnd.databricks.v1+cell": {
     "cellMetadata": {
      "byteLimit": 2048000,
      "rowLimit": 10000
     },
     "inputWidgets": {},
     "nuid": "e8e062c1-ee00-4035-8310-b164b71b8867",
     "showTitle": false,
     "tableResultSettingsMap": {},
     "title": ""
    }
   },
   "outputs": [],
   "source": [
    "from pyspark.sql.functions import col"
   ]
  },
  {
   "cell_type": "markdown",
   "metadata": {
    "application/vnd.databricks.v1+cell": {
     "cellMetadata": {},
     "inputWidgets": {},
     "nuid": "6c682420-804b-47aa-8950-59386a7025d9",
     "showTitle": false,
     "tableResultSettingsMap": {},
     "title": ""
    }
   },
   "source": [
    "##Puxando todas as tabelas dimensão"
   ]
  },
  {
   "cell_type": "code",
   "execution_count": 0,
   "metadata": {
    "application/vnd.databricks.v1+cell": {
     "cellMetadata": {
      "byteLimit": 2048000,
      "rowLimit": 10000
     },
     "inputWidgets": {},
     "nuid": "cec87308-3985-4d3a-9b5e-fdd454e640f4",
     "showTitle": false,
     "tableResultSettingsMap": {},
     "title": ""
    }
   },
   "outputs": [],
   "source": [
    "df_silver = spark.sql(\"SELECT * FROM controlled_medication_data.silver_layer.vendas\")\n",
    "df_dim_data = spark.sql(\"SELECT * FROM controlled_medication_data.gold_layer.dim_data\")\n",
    "df_dim_localizacao = spark.sql(\"SELECT * FROM controlled_medication_data.gold_layer.dim_localizacao_venda\")\n",
    "df_dim_produto = spark.sql(\"SELECT * FROM controlled_medication_data.gold_layer.dim_produto\")\n",
    "df_dim_prescritor = spark.sql(\"SELECT * FROM controlled_medication_data.gold_layer.dim_prescritor\")\n",
    "df_dim_comprador = spark.sql(\"SELECT * FROM controlled_medication_data.gold_layer.dim_comprador\")"
   ]
  },
  {
   "cell_type": "code",
   "execution_count": 0,
   "metadata": {
    "application/vnd.databricks.v1+cell": {
     "cellMetadata": {
      "byteLimit": 2048000,
      "rowLimit": 10000
     },
     "inputWidgets": {},
     "nuid": "002063b7-0180-41d2-9f97-86e872061d6d",
     "showTitle": false,
     "tableResultSettingsMap": {},
     "title": ""
    }
   },
   "outputs": [],
   "source": [
    "df_fat_vendas = df_silver"
   ]
  },
  {
   "cell_type": "markdown",
   "metadata": {
    "application/vnd.databricks.v1+cell": {
     "cellMetadata": {},
     "inputWidgets": {},
     "nuid": "f21636cf-d774-4c50-8be2-d3f2570e652a",
     "showTitle": false,
     "tableResultSettingsMap": {},
     "title": ""
    }
   },
   "source": [
    "## Realizando União (left-join) de cada dim na tabela silver"
   ]
  },
  {
   "cell_type": "code",
   "execution_count": 0,
   "metadata": {
    "application/vnd.databricks.v1+cell": {
     "cellMetadata": {
      "byteLimit": 2048000,
      "rowLimit": 10000
     },
     "inputWidgets": {},
     "nuid": "c13e59ad-465e-48d2-9e7f-e04b9fa264aa",
     "showTitle": false,
     "tableResultSettingsMap": {},
     "title": ""
    }
   },
   "outputs": [],
   "source": [
    "df_fat_vendas = df_fat_vendas.join(\n",
    "    df_dim_data,\n",
    "    on=\"data_venda\",\n",
    "    how=\"left\"\n",
    ").select(\n",
    "    df_fat_vendas[\"*\"],\n",
    "    col(\"id_data\")\n",
    ")"
   ]
  },
  {
   "cell_type": "code",
   "execution_count": 0,
   "metadata": {
    "application/vnd.databricks.v1+cell": {
     "cellMetadata": {
      "byteLimit": 2048000,
      "rowLimit": 10000
     },
     "inputWidgets": {},
     "nuid": "448309e6-fb67-4ae4-8156-4af164a47f8d",
     "showTitle": false,
     "tableResultSettingsMap": {
      "0": {
       "dataGridStateBlob": "{\"version\":1,\"tableState\":{\"columnPinning\":{\"left\":[\"#row_number#\"],\"right\":[]},\"columnSizing\":{},\"columnVisibility\":{}},\"settings\":{\"columns\":{}},\"syncTimestamp\":1756215839020}",
       "filterBlob": null,
       "queryPlanFiltersBlob": null,
       "tableResultIndex": 0
      }
     },
     "title": ""
    }
   },
   "outputs": [],
   "source": [
    "df_fat_vendas.select(\"data_venda\", \"id_data\").distinct().display()"
   ]
  },
  {
   "cell_type": "code",
   "execution_count": 0,
   "metadata": {
    "application/vnd.databricks.v1+cell": {
     "cellMetadata": {
      "byteLimit": 2048000,
      "rowLimit": 10000
     },
     "inputWidgets": {},
     "nuid": "2ab5916c-9bab-4a2a-8bc1-8df35dbbdfee",
     "showTitle": false,
     "tableResultSettingsMap": {},
     "title": ""
    }
   },
   "outputs": [],
   "source": [
    "df_fat_vendas = df_fat_vendas.join(\n",
    "    df_dim_localizacao,\n",
    "    on=[\"uf_venda\", \"municipio_venda\", \"latitude_municipio\", \"longitude_municipio\", \"capital\", \"nome_uf\", \"latitude_uf\", \"longitude_uf\", \"regiao\"],\n",
    "    how=\"left\"\n",
    ").select(\n",
    "    df_fat_vendas[\"*\"],\n",
    "    col(\"id_localizacao\")\n",
    ")"
   ]
  },
  {
   "cell_type": "code",
   "execution_count": 0,
   "metadata": {
    "application/vnd.databricks.v1+cell": {
     "cellMetadata": {
      "byteLimit": 2048000,
      "rowLimit": 10000
     },
     "inputWidgets": {},
     "nuid": "f2308e52-6f3a-4c1f-898f-125dfa991f99",
     "showTitle": false,
     "tableResultSettingsMap": {},
     "title": ""
    }
   },
   "outputs": [],
   "source": [
    "df_fat_vendas = df_fat_vendas.join(\n",
    "    df_dim_produto,\n",
    "    on=[\"principio_ativo\", \"descricao_apresentacao\", \"unidade_medida\", \"CID10\"],\n",
    "    how=\"left\"\n",
    ").select(\n",
    "    df_fat_vendas[\"*\"],\n",
    "    col(\"id_produto\")\n",
    ")"
   ]
  },
  {
   "cell_type": "code",
   "execution_count": 0,
   "metadata": {
    "application/vnd.databricks.v1+cell": {
     "cellMetadata": {
      "byteLimit": 2048000,
      "rowLimit": 10000
     },
     "inputWidgets": {},
     "nuid": "af234349-5be4-45fd-8d10-6c61ea16f353",
     "showTitle": false,
     "tableResultSettingsMap": {},
     "title": ""
    }
   },
   "outputs": [],
   "source": [
    "df_fat_vendas = df_fat_vendas.join(\n",
    "    df_dim_prescritor,\n",
    "    on=[\"conselho_prescritor\", \"uf_conselho_prescritor\", \"tipo_receituario\"],\n",
    "    how=\"left\"\n",
    ").select(\n",
    "    df_fat_vendas[\"*\"],\n",
    "    col(\"id_prescritor\")\n",
    ")"
   ]
  },
  {
   "cell_type": "code",
   "execution_count": 0,
   "metadata": {
    "application/vnd.databricks.v1+cell": {
     "cellMetadata": {
      "byteLimit": 2048000,
      "rowLimit": 10000
     },
     "inputWidgets": {},
     "nuid": "cda78962-5d4a-4879-b38b-a6f1d3b040b6",
     "showTitle": false,
     "tableResultSettingsMap": {},
     "title": ""
    }
   },
   "outputs": [],
   "source": [
    "df_fat_vendas = df_fat_vendas.join(\n",
    "    df_dim_comprador,\n",
    "    on=[\"sexo_comprador\", \"idade_comprador\"],\n",
    "    how=\"left\"\n",
    ").select(\n",
    "    df_fat_vendas[\"*\"],\n",
    "    col(\"id_comprador\")\n",
    ")"
   ]
  },
  {
   "cell_type": "markdown",
   "metadata": {
    "application/vnd.databricks.v1+cell": {
     "cellMetadata": {},
     "inputWidgets": {},
     "nuid": "aa4a2821-91ab-4aa2-9bdc-7044fa48c713",
     "showTitle": false,
     "tableResultSettingsMap": {},
     "title": ""
    }
   },
   "source": [
    "## Criação da tabela fato, apenas com ids das fatos e fato da venda (quantidade_vendida)"
   ]
  },
  {
   "cell_type": "code",
   "execution_count": 0,
   "metadata": {
    "application/vnd.databricks.v1+cell": {
     "cellMetadata": {
      "byteLimit": 2048000,
      "rowLimit": 10000
     },
     "inputWidgets": {},
     "nuid": "a2bf9c1b-e2f0-4982-8702-c5a81c636d0c",
     "showTitle": false,
     "tableResultSettingsMap": {},
     "title": ""
    }
   },
   "outputs": [],
   "source": [
    "df_fat_vendas_formatado = df_fat_vendas.select(\n",
    "    \"qtd_vendida\",\n",
    "    \"id_data\",\n",
    "    \"id_localizacao\",\n",
    "    \"id_produto\",\n",
    "    \"id_prescritor\",\n",
    "    \"id_comprador\"\n",
    ")"
   ]
  },
  {
   "cell_type": "markdown",
   "metadata": {
    "application/vnd.databricks.v1+cell": {
     "cellMetadata": {},
     "inputWidgets": {},
     "nuid": "764e8b0e-a01f-446f-b5ba-a5bc8c4ebb3d",
     "showTitle": false,
     "tableResultSettingsMap": {},
     "title": ""
    }
   },
   "source": [
    "## Tratamento de ids nulos"
   ]
  },
  {
   "cell_type": "code",
   "execution_count": 0,
   "metadata": {
    "application/vnd.databricks.v1+cell": {
     "cellMetadata": {
      "byteLimit": 2048000,
      "rowLimit": 10000
     },
     "inputWidgets": {},
     "nuid": "2c443b36-1e29-45dd-9573-fd317027b54d",
     "showTitle": false,
     "tableResultSettingsMap": {},
     "title": ""
    }
   },
   "outputs": [],
   "source": [
    "campos_com_nulos = [\"id_comprador\", \"id_data\", \"id_localizacao\", \"id_produto\", \"id_prescritor\"]"
   ]
  },
  {
   "cell_type": "code",
   "execution_count": 0,
   "metadata": {
    "application/vnd.databricks.v1+cell": {
     "cellMetadata": {
      "byteLimit": 2048000,
      "rowLimit": 10000
     },
     "inputWidgets": {},
     "nuid": "d64f9c08-2675-49c7-91bd-6ae21e071d37",
     "showTitle": false,
     "tableResultSettingsMap": {},
     "title": ""
    }
   },
   "outputs": [],
   "source": [
    "df_fat_vendas = df_fat_vendas_formatado.fillna(-1, campos_com_nulos)"
   ]
  },
  {
   "cell_type": "code",
   "execution_count": 0,
   "metadata": {
    "application/vnd.databricks.v1+cell": {
     "cellMetadata": {
      "byteLimit": 2048000,
      "rowLimit": 10000
     },
     "inputWidgets": {},
     "nuid": "7d59a78f-4a8c-45f8-b902-3a454356b8bf",
     "showTitle": false,
     "tableResultSettingsMap": {},
     "title": ""
    }
   },
   "outputs": [],
   "source": [
    "df_fat_vendas.count()"
   ]
  },
  {
   "cell_type": "markdown",
   "metadata": {
    "application/vnd.databricks.v1+cell": {
     "cellMetadata": {},
     "inputWidgets": {},
     "nuid": "174b8f47-e9d7-43dd-a9f4-3fbb2a6fd5bb",
     "showTitle": false,
     "tableResultSettingsMap": {},
     "title": ""
    }
   },
   "source": [
    "## Salvando tabela"
   ]
  },
  {
   "cell_type": "code",
   "execution_count": 0,
   "metadata": {
    "application/vnd.databricks.v1+cell": {
     "cellMetadata": {
      "byteLimit": 2048000,
      "rowLimit": 10000
     },
     "inputWidgets": {},
     "nuid": "03008b1e-4cd2-4eda-bdd2-0845e9b240c3",
     "showTitle": false,
     "tableResultSettingsMap": {},
     "title": ""
    }
   },
   "outputs": [],
   "source": [
    "df_fat_vendas_final.write.mode(\"overwrite\").saveAsTable(\"controlled_medication_data.gold_layer.ft_vendas\")"
   ]
  }
 ],
 "metadata": {
  "application/vnd.databricks.v1+notebook": {
   "computePreferences": null,
   "dashboards": [],
   "environmentMetadata": {
    "base_environment": "",
    "environment_version": "3"
   },
   "inputWidgetPreferences": null,
   "language": "python",
   "notebookMetadata": {
    "pythonIndentUnit": 4
   },
   "notebookName": "fact_table",
   "widgets": {}
  },
  "language_info": {
   "name": "python"
  }
 },
 "nbformat": 4,
 "nbformat_minor": 0
}
